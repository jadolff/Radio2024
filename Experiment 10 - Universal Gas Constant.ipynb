{
 "cells": [
  {
   "cell_type": "code",
   "execution_count": 1,
   "metadata": {},
   "outputs": [],
   "source": [
    "import numpy as np\n",
    "import matplotlib.pyplot as plt\n",
    "import os\n",
    "from scipy.stats import norm\n",
    "from IPython.display import Image"
   ]
  },
  {
   "cell_type": "code",
   "execution_count": 2,
   "metadata": {},
   "outputs": [],
   "source": [
    "Clin = 1.714256640\n",
    "Cp = -1.561\n",
    "CT = 1.28620\n",
    "\n",
    "def barometer(P, T): #T in Grad Celsius\n",
    "    return(P - Clin*(P + Cp)*(T + CT)) #in mmHg"
   ]
  },
  {
   "cell_type": "code",
   "execution_count": 3,
   "metadata": {},
   "outputs": [
    {
     "name": "stdout",
     "output_type": "stream",
     "text": [
      "General observations\n",
      "100982.3615131579\n"
     ]
    }
   ],
   "source": [
    "print(\"General observations\")\n",
    "ML = 0.02896 #kg/mol\n",
    "t = 293.65 #kelvin\n",
    "T = 20.5\n",
    "phi = 0.615 #%\n",
    "b = 0.7168 #m \n",
    "p = 101325 - 2.57*(101325/760) #Pa\n",
    "b_ = barometer(p*1000, t - 273.15)\n",
    "print(p)"
   ]
  },
  {
   "cell_type": "code",
   "execution_count": 4,
   "metadata": {},
   "outputs": [
    {
     "name": "stdout",
     "output_type": "stream",
     "text": [
      "Determining the mass of air in the glass bulb\n",
      "m1 0.00020900000000000085\n",
      "repeating measurement\n",
      "m2 0.00022699999999999804\n"
     ]
    }
   ],
   "source": [
    "print(\"Determining the mass of air in the glass bulb\")\n",
    "mKL1 = 0.052441 #kg\n",
    "mKV1 = 0.052232 #kg\n",
    "m1 = mKL1 - mKV1\n",
    "print(\"m1\", m1)\n",
    "print(\"repeating measurement\")\n",
    "mKL2 = 0.049703\n",
    "mKV2 = 0.049476\n",
    "m2 = mKL2 - mKV2\n",
    "print(\"m2\", m2)"
   ]
  },
  {
   "cell_type": "code",
   "execution_count": 5,
   "metadata": {},
   "outputs": [
    {
     "name": "stdout",
     "output_type": "stream",
     "text": [
      "Determining the volume of the glass bulb\n",
      "mK 0.049476\n",
      "mKW 0.249861\n",
      "mW 0.200385 0.20090391670596716\n"
     ]
    }
   ],
   "source": [
    "\"\"\"Determining the volume of the glass bulb\"\"\"\n",
    "print(\"Determining the volume of the glass bulb\")\n",
    "\n",
    "c0 = 0.999853\n",
    "c1 = 6.32693*10**(-5)\n",
    "c2 = -8.52383*10**(-6)\n",
    "c3 = 6.94325*10**(-8)\n",
    "c4 = -3.82122*10**(-10)\n",
    "\n",
    "def rho(T):\n",
    "    return(c0 + c1*T + c2*T**2 + c3*T**3 + c4*T**4)\n",
    "\n",
    "mK = mKV2\n",
    "mKW = 0.24712 + 0.002741 #kg\n",
    "mW = mKW - mK\n",
    "tW = 23.5 #celcius\n",
    "rhoW = rho(tW)\n",
    "V = mW/rhoW\n",
    "print(\"mK\", mK)\n",
    "print(\"mKW\", mKW)\n",
    "print(\"mW\", mW, V)\n"
   ]
  },
  {
   "cell_type": "code",
   "execution_count": 6,
   "metadata": {},
   "outputs": [
    {
     "name": "stdout",
     "output_type": "stream",
     "text": [
      "Approxi value for the universal gas constant (not correcting for air humidity)\n",
      "0.03471276178882783 0.03471276178882784\n",
      "R'1 9.573179286317615\n",
      "R'2 8.814072558768313\n"
     ]
    }
   ],
   "source": [
    "\"\"\"Approxi value for the universal gas constant (not correcting for air humidity)\"\"\"\n",
    "print(\"Approxi value for the universal gas constant (not correcting for air humidity)\")\n",
    "\n",
    "def mass(m_air, m_):\n",
    "    return((m_air/100)*m_)\n",
    "\n",
    "M_N2 = 28.01\n",
    "m_N2_pro = 75.47\n",
    "m_N2_1 = mass(m1, m_N2_pro)\n",
    "m_N2_2 = mass(m2, m_N2_pro)\n",
    "\n",
    "M_O2 = 32.00\n",
    "m_O2_pro = 23.20\n",
    "m_O2_1 = mass(m1, m_O2_pro)\n",
    "m_O2_2 = mass(m2, m_O2_pro)\n",
    "\n",
    "M_Ar = 39.95\n",
    "m_Ar_pro = 1.28\n",
    "m_Ar_1 = mass(m1, m_Ar_pro)\n",
    "m_Ar_2 = mass(m2, m_Ar_pro)\n",
    "\n",
    "M_rest = 2.016\n",
    "m_rest_pro = 0.01\n",
    "m_rest_1 = mass(m1, m_rest_pro)\n",
    "m_rest_2 = mass(m2, m_rest_pro)\n",
    "\n",
    "\n",
    "M = np.array([M_N2, M_O2, M_Ar, M_rest, M_rest, M_rest, M_rest])\n",
    "m_1 = np.array([m_N2_1, m_O2_1, m_Ar_1, m_rest_1, m_rest_1, m_rest_1, m_rest_1])\n",
    "m_2 = np.array([m_N2_2, m_O2_2, m_Ar_2, m_rest_2, m_rest_2, m_rest_2, m_rest_2])\n",
    "m_pro = np.array([m_N2_pro, m_O2_pro, m_Ar_pro, m_rest_pro, m_rest_pro, m_rest_pro, m_rest_pro])\n",
    "\n",
    "\n",
    "\"\"\"\n",
    "m1_arr = np.array(size)\n",
    "m2_arr = np.array(size)\n",
    "for i in range(size):\n",
    "    m1[i] = mass(m1, m_pro[i])\n",
    "    m2[i] = mass(m2, m_pro[i])\n",
    "\"\"\"\n",
    "\n",
    "def mol_mass_air(m_arr, m, M):\n",
    "    res = 0.0\n",
    "    for i in range(7):\n",
    "        res += (m_arr[i]/(m*M[i]))\n",
    "    return res\n",
    "\n",
    "def gas_constant(M, p, V, m, t):\n",
    "    return (M*p*V)/(m*t*10**3)\n",
    "\n",
    "ML1 = mol_mass_air(m_1, m1, M)\n",
    "ML11  = 0.02896 #kg/mol\n",
    "ML2 = mol_mass_air(m_2, m2, M)\n",
    "print(ML1, ML2)\n",
    "\n",
    "R1_ = gas_constant(ML11, p, V, m1, t)\n",
    "R2_ = gas_constant(ML11, p, V, m2, t)\n",
    "\n",
    "print(\"R'1\", R1_)\n",
    "print(\"R'2\", R2_)"
   ]
  },
  {
   "cell_type": "code",
   "execution_count": 8,
   "metadata": {},
   "outputs": [
    {
     "name": "stdout",
     "output_type": "stream",
     "text": [
      "More precise value for the universal gas constant (taking air humidity into account)\n",
      "pWS 2405.74806713458\n",
      "pW 1479.535061287767\n",
      "pL 99502.82645187013\n"
     ]
    },
    {
     "ename": "NameError",
     "evalue": "name 'mL' is not defined",
     "output_type": "error",
     "traceback": [
      "\u001b[1;31m---------------------------------------------------------------------------\u001b[0m",
      "\u001b[1;31mNameError\u001b[0m                                 Traceback (most recent call last)",
      "\u001b[1;32m<ipython-input-8-2fa6964c491c>\u001b[0m in \u001b[0;36m<module>\u001b[1;34m\u001b[0m\n\u001b[0;32m     14\u001b[0m \u001b[0mprint\u001b[0m\u001b[1;33m(\u001b[0m\u001b[1;34m\"pL\"\u001b[0m\u001b[1;33m,\u001b[0m \u001b[0mpL\u001b[0m\u001b[1;33m)\u001b[0m\u001b[1;33m\u001b[0m\u001b[1;33m\u001b[0m\u001b[0m\n\u001b[0;32m     15\u001b[0m \u001b[1;33m\u001b[0m\u001b[0m\n\u001b[1;32m---> 16\u001b[1;33m \u001b[0mmL\u001b[0m\u001b[1;33m\u001b[0m\u001b[1;33m\u001b[0m\u001b[0m\n\u001b[0m\u001b[0;32m     17\u001b[0m \u001b[1;31m#MW =\u001b[0m\u001b[1;33m\u001b[0m\u001b[1;33m\u001b[0m\u001b[1;33m\u001b[0m\u001b[0m\n\u001b[0;32m     18\u001b[0m \u001b[1;31m#print(MW)\u001b[0m\u001b[1;33m\u001b[0m\u001b[1;33m\u001b[0m\u001b[1;33m\u001b[0m\u001b[0m\n",
      "\u001b[1;31mNameError\u001b[0m: name 'mL' is not defined"
     ]
    }
   ],
   "source": [
    "\"\"\"More precise value for the universal gas constant (taking air humidity into account)\"\"\"\n",
    "print(\"More precise value for the universal gas constant (taking air humidity into account)\")\n",
    "\n",
    "A = 611.2 #pa\n",
    "s = 17.62\n",
    "Tn = 243.12 #°C\n",
    "\n",
    "\n",
    "pWS = A*np.exp(s*T/(Tn +T))\n",
    "print(\"pWS\", pWS)\n",
    "pW = phi*pWS\n",
    "print(\"pW\", pW)\n",
    "pL = p - pW\n",
    "print(\"pL\", pL)\n",
    "\n",
    "mL\n",
    "#MW = \n",
    "#print(MW)"
   ]
  },
  {
   "cell_type": "code",
   "execution_count": null,
   "metadata": {},
   "outputs": [],
   "source": [
    "RR = (ML11 * pL * V/(mL*T))"
   ]
  },
  {
   "cell_type": "code",
   "execution_count": null,
   "metadata": {},
   "outputs": [],
   "source": []
  },
  {
   "cell_type": "code",
   "execution_count": null,
   "metadata": {},
   "outputs": [],
   "source": []
  },
  {
   "cell_type": "code",
   "execution_count": 9,
   "metadata": {},
   "outputs": [
    {
     "name": "stdout",
     "output_type": "stream",
     "text": [
      "0.1981572272184959 0.19764400000000001\n"
     ]
    }
   ],
   "source": [
    "rhow = 0.997410 #1000kg/m^(-3)\n",
    "mk = 0.049476\n",
    "mkw = 0.24712\n",
    "mw = mkw - mk  #g\n",
    "V = mw / rhow #L\n",
    "print(V,mw)"
   ]
  },
  {
   "cell_type": "code",
   "execution_count": null,
   "metadata": {},
   "outputs": [],
   "source": [
    "m = 0.000209 #g\n",
    "p = 101325 - (2.57 * 133.32) #Torr\n",
    "ML = 0.02896 #g/mol\n",
    "T = 273.15+20.5 #K\n",
    "R = ML * p *V  /(m*T)\n",
    "print(p)"
   ]
  },
  {
   "cell_type": "code",
   "execution_count": null,
   "metadata": {},
   "outputs": [],
   "source": [
    "ml = #mass of dry air"
   ]
  },
  {
   "cell_type": "code",
   "execution_count": null,
   "metadata": {},
   "outputs": [],
   "source": []
  },
  {
   "cell_type": "markdown",
   "metadata": {},
   "source": [
    "A = 611.2 #Pa\n",
    "s = 17.62\n",
    "phi = pw/pws relative humidity\n",
    "Tn = 243.12 + 273.15 #K\n",
    "pl = p-phi*A*np.exp(st/(Tn+t))"
   ]
  },
  {
   "cell_type": "code",
   "execution_count": null,
   "metadata": {},
   "outputs": [],
   "source": []
  }
 ],
 "metadata": {
  "kernelspec": {
   "display_name": "Python 3",
   "language": "python",
   "name": "python3"
  },
  "language_info": {
   "codemirror_mode": {
    "name": "ipython",
    "version": 3
   },
   "file_extension": ".py",
   "mimetype": "text/x-python",
   "name": "python",
   "nbconvert_exporter": "python",
   "pygments_lexer": "ipython3",
   "version": "3.8.3"
  }
 },
 "nbformat": 4,
 "nbformat_minor": 4
}
